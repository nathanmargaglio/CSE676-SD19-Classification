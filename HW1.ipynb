{
 "cells": [
  {
   "cell_type": "code",
   "execution_count": 8,
   "metadata": {},
   "outputs": [],
   "source": [
    "import numpy as np\n",
    "import pandas as pd\n",
    "import matplotlib.pyplot as plt\n",
    "import imageio\n",
    "import scipy\n",
    "import os\n",
    "import time\n",
    "\n",
    "import keras\n",
    "from keras.optimizers import Adadelta\n",
    "from keras.models import Sequential, load_model\n",
    "from keras.layers import Dense, Conv2D, Flatten, MaxPooling2D, Dropout\n",
    "from keras.callbacks import EarlyStopping, TensorBoard, ModelCheckpoint\n",
    "\n",
    "from sklearn.metrics import confusion_matrix\n",
    "from matplotlib import animation, rc\n",
    "import matplotlib.patches as mpatches\n",
    "from IPython.display import HTML\n",
    "from IPython.display import display, clear_output\n",
    "import ipywidgets as widgets\n",
    "#%matplotlib notebook"
   ]
  },
  {
   "cell_type": "code",
   "execution_count": 2,
   "metadata": {},
   "outputs": [],
   "source": [
    "# my GPU has little ram, so we're just gonna use the CPU\n",
    "os.environ[\"CUDA_DEVICE_ORDER\"] = \"PCI_BUS_ID\"\n",
    "os.environ[\"CUDA_VISIBLE_DEVICES\"] = \"\"\n",
    "\n",
    "import warnings\n",
    "warnings.filterwarnings(\"ignore\")\n",
    "\n",
    "if not os.path.exists('models'):\n",
    "    os.makedirs('models')"
   ]
  },
  {
   "cell_type": "markdown",
   "metadata": {},
   "source": [
    "# Data Processing"
   ]
  },
  {
   "cell_type": "code",
   "execution_count": 3,
   "metadata": {},
   "outputs": [],
   "source": [
    "classes = os.listdir('by_class')\n",
    "\n",
    "data_pairs = []\n",
    "for class_int, class_dir in enumerate(classes):\n",
    "    image_path = 'by_class/{}/train_{}/'.format(class_dir, class_dir)\n",
    "    image_files = os.listdir(image_path)\n",
    "    for d in [image_path + img for img in image_files]:\n",
    "        data_pairs.append((d, class_int))\n",
    "        \n",
    "x_data = np.array(data_pairs)[::,0]\n",
    "y_data = keras.utils.to_categorical(np.array(data_pairs)[::,1], len(classes))"
   ]
  },
  {
   "cell_type": "code",
   "execution_count": 4,
   "metadata": {},
   "outputs": [],
   "source": [
    "full_idx = np.arange(0, len(x_data))\n",
    "train_idx = np.random.choice(full_idx, \n",
    "                             int(len(x_data)*0.8), \n",
    "                             replace=False)\n",
    "test_idx = np.setdiff1d(full_idx, train_idx)\n",
    "\n",
    "x_train = x_data[train_idx]\n",
    "y_train = y_data[train_idx]\n",
    "x_test = x_data[test_idx]\n",
    "y_test = y_data[test_idx]"
   ]
  },
  {
   "cell_type": "code",
   "execution_count": 5,
   "metadata": {},
   "outputs": [
    {
     "name": "stdout",
     "output_type": "stream",
     "text": [
      "50\n"
     ]
    },
    {
     "data": {
      "text/plain": [
       "<matplotlib.image.AxesImage at 0x7f43b5da29e8>"
      ]
     },
     "execution_count": 5,
     "metadata": {},
     "output_type": "execute_result"
    },
    {
     "data": {
      "image/png": "[encoded data removed]",
      "text/plain": [
       "<matplotlib.figure.Figure at 0x7f440b914eb8>"
      ]
     },
     "metadata": {},
     "output_type": "display_data"
    }
   ],
   "source": [
    "try:\n",
    "    im = imageio.imread(data_pairs[591000][0], pilmode='L')/255\n",
    "except TypeError as e:\n",
    "    im = scipy.misc.imread(data_pairs[591000][0], mode='L')/255\n",
    "print(data_pairs[590000][1])\n",
    "plt.imshow(im)"
   ]
  },
  {
   "cell_type": "code",
   "execution_count": 6,
   "metadata": {},
   "outputs": [],
   "source": [
    "def batch_generator(x, y, batch_size=32, iterate=False):\n",
    "    count = 0\n",
    "    while True:\n",
    "        idx = np.random.randint(0, len(x), batch_size)\n",
    "        if iterate:\n",
    "            idx = np.arange(count*batch, (count+1)*batch)\n",
    "            if idx[-1] > len(x):\n",
    "                yield np.array([]), np.array([])\n",
    "        im_files = x[idx]\n",
    "        ims = []\n",
    "        labels = y[idx]\n",
    "        \n",
    "        for i in im_files:\n",
    "            try:\n",
    "                image = imageio.imread(i, pilmode='L')/255\n",
    "            except TypeError as e:\n",
    "                image = scipy.misc.imread(i, mode='L')/255\n",
    "            image = np.expand_dims(image, axis=0)\n",
    "            ims.append(image)\n",
    "\n",
    "        yield np.array(ims), labels"
   ]
  },
  {
   "cell_type": "code",
   "execution_count": 7,
   "metadata": {},
   "outputs": [
    {
     "name": "stdout",
     "output_type": "stream",
     "text": [
      "[0. 0. 0. 0. 0. 0. 0. 0. 0. 0. 0. 0. 0. 0. 0. 0. 0. 0. 0. 0. 0. 0. 0. 0.\n",
      " 0. 0. 0. 0. 0. 0. 0. 0. 1. 0. 0. 0. 0. 0. 0. 0. 0. 0. 0. 0. 0. 0. 0. 0.\n",
      " 0. 0. 0. 0. 0. 0. 0. 0. 0. 0. 0. 0. 0. 0.]\n",
      "32\n"
     ]
    },
    {
     "data": {
      "image/png": "[encoded data removed]",
      "text/plain": [
       "<matplotlib.figure.Figure at 0x7f43b5d5b128>"
      ]
     },
     "metadata": {},
     "output_type": "display_data"
    }
   ],
   "source": [
    "# quick test\n",
    "for gen, label in batch_generator(x_train, y_train):\n",
    "    for im, l in zip(gen, label):\n",
    "        print(l)\n",
    "        print(np.argmax(l))\n",
    "        plt.imshow(im.reshape(128,128))\n",
    "        plt.show()\n",
    "        break\n",
    "    break"
   ]
  },
  {
   "cell_type": "markdown",
   "metadata": {},
   "source": [
    "# Model"
   ]
  },
  {
   "cell_type": "code",
   "execution_count": 27,
   "metadata": {
    "scrolled": false
   },
   "outputs": [],
   "source": [
    "img_rows, img_cols = 128, 128\n",
    "input_shape = (1, img_rows, img_cols)\n",
    "\n",
    "model = Sequential()\n",
    "model.add(Conv2D(32, kernel_size=(3, 3),\n",
    "                 activation='relu',\n",
    "                 input_shape=input_shape,\n",
    "                 data_format=\"channels_first\"))\n",
    "model.add(Conv2D(64, (3, 3), activation='relu'))\n",
    "model.add(MaxPooling2D(pool_size=(2, 2)))\n",
    "model.add(Dropout(0.25))\n",
    "model.add(Flatten())\n",
    "model.add(Dense(128, activation='relu'))\n",
    "model.add(Dropout(0.5))\n",
    "model.add(Dense(len(classes), activation='softmax'))\n",
    "\n",
    "adadelta = Adadelta(lr=0.1)\n",
    "model.compile(loss='categorical_crossentropy',\n",
    "              optimizer='adadelta',\n",
    "              metrics=['categorical_accuracy'])\n",
    "\n",
    "# Uncomment this line to load a model\n",
    "model = load_model('models/model.hdf5')"
   ]
  },
  {
   "cell_type": "markdown",
   "metadata": {},
   "source": [
    "# Training"
   ]
  },
  {
   "cell_type": "code",
   "execution_count": null,
   "metadata": {
    "scrolled": true
   },
   "outputs": [
    {
     "name": "stdout",
     "output_type": "stream",
     "text": [
      "Epoch 197/1000\n",
      "8/8 [==============================] - 31s 4s/step - loss: 1.3305 - categorical_accuracy: 0.6289 - val_loss: 1.1175 - val_categorical_accuracy: 0.6797\n",
      "Epoch 198/1000\n",
      "8/8 [==============================] - 31s 4s/step - loss: 1.5977 - categorical_accuracy: 0.5664 - val_loss: 0.9722 - val_categorical_accuracy: 0.7461\n",
      "Epoch 199/1000\n",
      "8/8 [==============================] - 31s 4s/step - loss: 1.5456 - categorical_accuracy: 0.5781 - val_loss: 1.1350 - val_categorical_accuracy: 0.6836\n",
      "Epoch 200/1000\n",
      "8/8 [==============================] - 31s 4s/step - loss: 1.4773 - categorical_accuracy: 0.6289 - val_loss: 0.9343 - val_categorical_accuracy: 0.7422\n",
      "Epoch 201/1000\n",
      "8/8 [==============================] - 31s 4s/step - loss: 1.6215 - categorical_accuracy: 0.6016 - val_loss: 1.1283 - val_categorical_accuracy: 0.6719\n",
      "Epoch 202/1000\n",
      "8/8 [==============================] - 30s 4s/step - loss: 1.6284 - categorical_accuracy: 0.5508 - val_loss: 0.9589 - val_categorical_accuracy: 0.7578\n",
      "Epoch 203/1000\n",
      "8/8 [==============================] - 31s 4s/step - loss: 1.4974 - categorical_accuracy: 0.6094 - val_loss: 1.1421 - val_categorical_accuracy: 0.6992\n",
      "Epoch 204/1000\n",
      "3/8 [==========>...................] - ETA: 13s - loss: 1.4803 - categorical_accuracy: 0.6250"
     ]
    }
   ],
   "source": [
    "callback_list = []\n",
    "train_name = str(int(time.time()))\n",
    "initial_epoch = 0\n",
    "if True:\n",
    "    # set ^ to true to load\n",
    "    train_name = '1536585304'\n",
    "    initial_epoch = 196\n",
    "    \n",
    "if not os.path.exists('models/' + train_name):\n",
    "    os.makedirs('models/' + train_name)\n",
    "callback_list.append(EarlyStopping(monitor='val_loss', patience=100))\n",
    "callback_list.append(TensorBoard(log_dir='./logs/' + train_name))\n",
    "model_path=\"models/\" + train_name +\"/model_{epoch:02d}-{val_categorical_accuracy:.2f}.hdf5\"\n",
    "callback_list.append(ModelCheckpoint(model_path, monitor='val_categorical_accuracy', period=10))\n",
    "\n",
    "train_gen = batch_generator(x_train, y_train, batch_size=32)\n",
    "test_gen = batch_generator(x_test, y_test, batch_size=32)\n",
    "\n",
    "hist = model.fit_generator(generator=train_gen,\n",
    "                    validation_data=test_gen,\n",
    "                    steps_per_epoch=8,\n",
    "                    validation_steps=8,\n",
    "                    epochs=1000,\n",
    "                    initial_epoch=initial_epoch,\n",
    "                    verbose=1,\n",
    "                    callbacks=callback_list)"
   ]
  },
  {
   "cell_type": "markdown",
   "metadata": {},
   "source": [
    "# Evaluation"
   ]
  },
  {
   "cell_type": "code",
   "execution_count": 11,
   "metadata": {},
   "outputs": [
    {
     "name": "stdout",
     "output_type": "stream",
     "text": [
      "Loading saved model...\n"
     ]
    }
   ],
   "source": [
    "try:\n",
    "    model\n",
    "except NameError as e:\n",
    "    print(\"Loading saved model...\")\n",
    "    model = load_model('models/model.hdf5')"
   ]
  },
  {
   "cell_type": "code",
   "execution_count": 15,
   "metadata": {},
   "outputs": [
    {
     "name": "stdout",
     "output_type": "stream",
     "text": [
      "Test loss: 1.1980380237102508\n",
      "Test categorical accuracy: 0.703125\n"
     ]
    }
   ],
   "source": [
    "test_gen = batch_generator(x_test, y_test, batch_size=32)\n",
    "score = model.evaluate_generator(test_gen, steps=10)\n",
    "print('Test loss:', score[0])\n",
    "print('Test categorical accuracy:', score[1])"
   ]
  },
  {
   "cell_type": "code",
   "execution_count": 16,
   "metadata": {
    "scrolled": true
   },
   "outputs": [
    {
     "name": "stdout",
     "output_type": "stream",
     "text": [
      "Predicition: 35\n",
      "Actual     : 36\n",
      "----------------------\n",
      "Predicition: 39\n",
      "Actual     : 39\n",
      "----------------------\n",
      "Predicition: 28\n",
      "Actual     : 56\n",
      "----------------------\n",
      "Predicition: 58\n",
      "Actual     : 58\n",
      "----------------------\n",
      "Predicition: 28\n",
      "Actual     : 28\n",
      "----------------------\n",
      "Predicition: 32\n",
      "Actual     : 32\n",
      "----------------------\n",
      "Predicition: 15\n",
      "Actual     : 15\n",
      "----------------------\n",
      "Predicition: 58\n",
      "Actual     : 58\n",
      "----------------------\n",
      "Predicition: 15\n",
      "Actual     : 15\n",
      "----------------------\n",
      "Predicition: 3\n",
      "Actual     : 3\n",
      "----------------------\n",
      "Predicition: 6\n",
      "Actual     : 6\n",
      "----------------------\n",
      "Predicition: 53\n",
      "Actual     : 44\n",
      "----------------------\n",
      "Predicition: 22\n",
      "Actual     : 22\n",
      "----------------------\n",
      "Predicition: 58\n",
      "Actual     : 58\n",
      "----------------------\n",
      "Predicition: 28\n",
      "Actual     : 2\n",
      "----------------------\n",
      "Predicition: 37\n",
      "Actual     : 50\n",
      "----------------------\n",
      "Predicition: 38\n",
      "Actual     : 33\n",
      "----------------------\n",
      "Predicition: 28\n",
      "Actual     : 51\n",
      "----------------------\n",
      "Predicition: 6\n",
      "Actual     : 6\n",
      "----------------------\n",
      "Predicition: 28\n",
      "Actual     : 28\n",
      "----------------------\n",
      "Predicition: 32\n",
      "Actual     : 32\n",
      "----------------------\n",
      "Predicition: 8\n",
      "Actual     : 8\n",
      "----------------------\n",
      "Predicition: 52\n",
      "Actual     : 52\n",
      "----------------------\n",
      "Predicition: 32\n",
      "Actual     : 32\n",
      "----------------------\n",
      "Predicition: 39\n",
      "Actual     : 30\n",
      "----------------------\n",
      "Predicition: 15\n",
      "Actual     : 15\n",
      "----------------------\n",
      "Predicition: 44\n",
      "Actual     : 44\n",
      "----------------------\n",
      "Predicition: 20\n",
      "Actual     : 20\n",
      "----------------------\n",
      "Predicition: 30\n",
      "Actual     : 30\n",
      "----------------------\n",
      "Predicition: 37\n",
      "Actual     : 37\n",
      "----------------------\n",
      "Predicition: 15\n",
      "Actual     : 15\n",
      "----------------------\n",
      "Predicition: 28\n",
      "Actual     : 28\n",
      "----------------------\n"
     ]
    }
   ],
   "source": [
    "for x, y in test_gen:\n",
    "    pred = model.predict(x)\n",
    "    for xp, l in zip(pred, y):\n",
    "        print(\"Predicition:\", np.argmax(xp))\n",
    "        print(\"Actual     :\", np.argmax(l))\n",
    "        print(\"----------------------\")\n",
    "    break"
   ]
  },
  {
   "cell_type": "markdown",
   "metadata": {},
   "source": [
    "# Confusion Matrix"
   ]
  },
  {
   "cell_type": "code",
   "execution_count": 17,
   "metadata": {},
   "outputs": [],
   "source": [
    "all_gen = batch_generator(x_test, y_test, batch_size = 100)\n",
    "y_true = np.array([])\n",
    "y_pred = np.array([])\n",
    "\n",
    "for x, y in all_gen:\n",
    "    if not y_true.size:\n",
    "        y_true = y_true.reshape((0, y.shape[1]))\n",
    "        y_pred = y_true.reshape((0, y.shape[1]))\n",
    "\n",
    "    y_true = np.concatenate((y_true, y))\n",
    "    \n",
    "    _y = model.predict(x)\n",
    "    y_pred = np.concatenate((y_pred, _y))\n",
    "    \n",
    "    if len(y_true) == 1000:\n",
    "        break"
   ]
  },
  {
   "cell_type": "code",
   "execution_count": 18,
   "metadata": {},
   "outputs": [
    {
     "data": {
      "text/plain": [
       "<matplotlib.image.AxesImage at 0x7f43ac50ca90>"
      ]
     },
     "execution_count": 18,
     "metadata": {},
     "output_type": "execute_result"
    },
    {
     "data": {
      "image/png": "[encoded data removed]",
      "text/plain": [
       "<matplotlib.figure.Figure at 0x7f43b5cbf668>"
      ]
     },
     "metadata": {},
     "output_type": "display_data"
    }
   ],
   "source": [
    "cm = confusion_matrix(np.argmax(y_true, axis=1), np.argmax(y_pred, axis=1))\n",
    "plt.imshow(cm)"
   ]
  },
  {
   "cell_type": "markdown",
   "metadata": {},
   "source": [
    "# Tensorboard Results"
   ]
  },
  {
   "cell_type": "code",
   "execution_count": 26,
   "metadata": {},
   "outputs": [
    {
     "name": "stdout",
     "output_type": "stream",
     "text": [
      "Opening saved results...\n"
     ]
    },
    {
     "data": {
      "image/png": "[encoded data removed]",
      "text/plain": [
       "<matplotlib.figure.Figure at 0x7f43ac61c470>"
      ]
     },
     "metadata": {},
     "output_type": "display_data"
    },
    {
     "data": {
      "image/png": "[encoded data removed]",
      "text/plain": [
       "<matplotlib.figure.Figure at 0x7f4392f50cc0>"
      ]
     },
     "metadata": {},
     "output_type": "display_data"
    }
   ],
   "source": [
    "try:\n",
    "    df = pd.DataFrame(hist.history)\n",
    "    df.plot(figsize=(10,8))\n",
    "except NameError as e:\n",
    "    print(\"Opening saved results...\")\n",
    "    df_loss = pd.read_csv('results/loss.csv')\n",
    "    df_val_loss = pd.read_csv('results/val_loss.csv')\n",
    "\n",
    "    plt.title(\"Loss\")\n",
    "    plt.xlabel(\"Epoch\")\n",
    "    plt.ylabel(\"Categorical Crossentropy\")\n",
    "\n",
    "    plt.legend(handles=[\n",
    "        mpatches.Patch(color='C0', label='Training Loss'),\n",
    "        mpatches.Patch(color='C1', label='Validation Loss')\n",
    "    ])\n",
    "\n",
    "    plt.plot(df_loss.Step, df_loss.Value)\n",
    "    plt.plot(df_val_loss.Step, df_val_loss.Value)\n",
    "    plt.show()\n",
    "\n",
    "    df_loss = pd.read_csv('results/categorical_accuracy.csv')\n",
    "    df_val_loss = pd.read_csv('results/val_categorical_accuracy.csv')\n",
    "\n",
    "    plt.title(\"Accuracy\")\n",
    "    plt.xlabel(\"Epoch\")\n",
    "    plt.ylabel(\"Categorical Accuracy\")\n",
    "\n",
    "    plt.legend(handles=[\n",
    "        mpatches.Patch(color='C0', label='Training Accuracy'),\n",
    "        mpatches.Patch(color='C1', label='Validation Accuracy')\n",
    "    ])\n",
    "\n",
    "    plt.plot(df_loss.Step, df_loss.Value)\n",
    "    plt.plot(df_val_loss.Step, df_val_loss.Value)\n",
    "    plt.show()"
   ]
  },
  {
   "cell_type": "code",
   "execution_count": null,
   "metadata": {},
   "outputs": [],
   "source": []
  }
 ],
 "metadata": {
  "kernelspec": {
   "display_name": "Python 3",
   "language": "python",
   "name": "python3"
  },
  "language_info": {
   "codemirror_mode": {
    "name": "ipython",
    "version": 3
   },
   "file_extension": ".py",
   "mimetype": "text/x-python",
   "name": "python",
   "nbconvert_exporter": "python",
   "pygments_lexer": "ipython3",
   "version": "3.6.4"
  }
 },
 "nbformat": 4,
 "nbformat_minor": 2
}
